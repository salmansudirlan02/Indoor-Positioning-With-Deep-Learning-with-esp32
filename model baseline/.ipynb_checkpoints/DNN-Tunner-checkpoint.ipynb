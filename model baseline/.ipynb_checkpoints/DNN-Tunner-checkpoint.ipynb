{
 "cells": [
  {
   "cell_type": "code",
   "execution_count": 1,
   "id": "dda96f6a",
   "metadata": {},
   "outputs": [],
   "source": [
    "import pickle"
   ]
  },
  {
   "cell_type": "code",
   "execution_count": 2,
   "id": "01f04fa7",
   "metadata": {},
   "outputs": [],
   "source": [
    "with open('EXP1.pickle', 'rb') as f:\n",
    "    data = pickle.load(f)"
   ]
  },
  {
   "cell_type": "code",
   "execution_count": 3,
   "id": "9801c3ac",
   "metadata": {},
   "outputs": [
    {
     "data": {
      "text/plain": [
       "[array([[14.18278985, 24.85084955, 32.26250018, ..., 10.00417662,\n",
       "          7.46888704,  3.62294237],\n",
       "        [12.57967283, 23.76741535, 30.37286871, ..., 14.95723319,\n",
       "         11.13698112,  5.84942905],\n",
       "        [13.22193417, 24.55529474, 30.39580222, ..., 13.83155641,\n",
       "         10.59001351,  5.29500675],\n",
       "        ...,\n",
       "        [13.29084536, 24.17527752, 31.31167992, ..., 14.23324907,\n",
       "         10.53464287,  4.58407225],\n",
       "        [12.95507451, 24.79821619, 31.58751678, ..., 15.15993757,\n",
       "         11.82398723,  5.91199362],\n",
       "        [12.83678016, 22.97733591, 30.31822964, ...,  9.57554661,\n",
       "          7.2255416 ,  3.23136044]]),\n",
       " array([ 3, 14,  9, ...,  4, 14, 15]),\n",
       " array([[13.28076564, 22.61852359, 31.40274702, ..., 10.60715627,\n",
       "          7.27644917,  3.63822458],\n",
       "        [12.94003695, 25.86111181, 29.316574  , ..., 10.92564205,\n",
       "          8.02663748,  4.04376155],\n",
       "        [14.43351816, 25.80163901, 33.27687417, ..., 11.81740281,\n",
       "          9.40164209,  3.67045161],\n",
       "        ...,\n",
       "        [ 9.31385356, 16.99185373, 21.98111139, ...,  8.65813213,\n",
       "          5.74999087,  2.86072738],\n",
       "        [10.12595963, 18.25930482, 23.00005503, ...,  9.45903101,\n",
       "          5.88334479,  3.65900747],\n",
       "        [ 9.184745  , 17.25962422, 21.51717653, ...,  8.96689396,\n",
       "          5.68277104,  2.87023281]]),\n",
       " array([ 0,  0,  0, ..., 15, 15, 15])]"
      ]
     },
     "execution_count": 3,
     "metadata": {},
     "output_type": "execute_result"
    }
   ],
   "source": [
    "data"
   ]
  },
  {
   "cell_type": "code",
   "execution_count": 4,
   "id": "ba352e53",
   "metadata": {},
   "outputs": [],
   "source": [
    "X_train = data[0]\n",
    "y_train = data[1]\n",
    "X_test = data[2]\n",
    "y_test = data[3]"
   ]
  },
  {
   "cell_type": "code",
   "execution_count": 5,
   "id": "d8af51a8",
   "metadata": {},
   "outputs": [],
   "source": [
    "# Determine number of features and unique labels\n",
    "n_features = len(X_train[0])\n",
    "n_classes = len(set(y_train))"
   ]
  },
  {
   "cell_type": "code",
   "execution_count": 31,
   "id": "74a1db50",
   "metadata": {},
   "outputs": [],
   "source": [
    "from tensorflow.keras.models import Sequential\n",
    "from tensorflow.keras.layers import Dense, Dropout,BatchNormalization\n",
    "from tensorflow.keras.regularizers import l2\n",
    "\n",
    "model = Sequential([\n",
    "    Dense(256, activation='relu', input_dim=n_features, kernel_regularizer=l2(0.01)),\n",
    "    BatchNormalization(),\n",
    "    Dropout(0.4),\n",
    "    \n",
    "    Dense(128, activation='relu', kernel_regularizer=l2(0.01)),\n",
    "    BatchNormalization(),\n",
    "    Dropout(0.4),\n",
    "    \n",
    "    Dense(64, activation='relu', kernel_regularizer=l2(0.01)),\n",
    "    BatchNormalization(),\n",
    "    Dropout(0.3),\n",
    "    \n",
    "    Dense(n_classes, activation='softmax')\n",
    "])"
   ]
  },
  {
   "cell_type": "code",
   "execution_count": 32,
   "id": "33446a64",
   "metadata": {},
   "outputs": [],
   "source": [
    "from tensorflow.keras.optimizers import Adam\n",
    "from tensorflow.keras.callbacks import EarlyStopping"
   ]
  },
  {
   "cell_type": "code",
   "execution_count": 37,
   "id": "ad8db280",
   "metadata": {},
   "outputs": [],
   "source": [
    "optimizer = Adam(learning_rate=0.00001)"
   ]
  },
  {
   "cell_type": "code",
   "execution_count": 38,
   "id": "0e79398a",
   "metadata": {},
   "outputs": [],
   "source": [
    "model.compile(optimizer=optimizer, loss='sparse_categorical_crossentropy', metrics=['accuracy'])"
   ]
  },
  {
   "cell_type": "code",
   "execution_count": 39,
   "id": "168018b5",
   "metadata": {},
   "outputs": [
    {
     "name": "stdout",
     "output_type": "stream",
     "text": [
      "Epoch 1/20\n",
      "200/200 [==============================] - 1s 5ms/step - loss: 0.8357 - accuracy: 0.7747 - val_loss: 1.1153 - val_accuracy: 0.7200\n",
      "Epoch 2/20\n",
      "200/200 [==============================] - 1s 4ms/step - loss: 0.7864 - accuracy: 0.7889 - val_loss: 0.8582 - val_accuracy: 0.7653\n",
      "Epoch 3/20\n",
      "200/200 [==============================] - 1s 4ms/step - loss: 0.7521 - accuracy: 0.8014 - val_loss: 0.8434 - val_accuracy: 0.7678\n",
      "Epoch 4/20\n",
      "200/200 [==============================] - 1s 4ms/step - loss: 0.7264 - accuracy: 0.8136 - val_loss: 0.8462 - val_accuracy: 0.7647\n",
      "Epoch 5/20\n",
      "200/200 [==============================] - 1s 4ms/step - loss: 0.6731 - accuracy: 0.8255 - val_loss: 0.7851 - val_accuracy: 0.7872\n",
      "Epoch 6/20\n",
      "200/200 [==============================] - 1s 4ms/step - loss: 0.6759 - accuracy: 0.8275 - val_loss: 0.8614 - val_accuracy: 0.7522\n",
      "Epoch 7/20\n",
      "200/200 [==============================] - 1s 5ms/step - loss: 0.6223 - accuracy: 0.8455 - val_loss: 0.8340 - val_accuracy: 0.7688\n",
      "Epoch 8/20\n",
      "200/200 [==============================] - 1s 5ms/step - loss: 0.6108 - accuracy: 0.8487 - val_loss: 0.7880 - val_accuracy: 0.7828\n",
      "Epoch 9/20\n",
      "200/200 [==============================] - 1s 4ms/step - loss: 0.6027 - accuracy: 0.8497 - val_loss: 0.7825 - val_accuracy: 0.7859\n",
      "Epoch 10/20\n",
      "200/200 [==============================] - 1s 4ms/step - loss: 0.5639 - accuracy: 0.8628 - val_loss: 0.8018 - val_accuracy: 0.7763\n",
      "Epoch 11/20\n",
      "200/200 [==============================] - 1s 5ms/step - loss: 0.5577 - accuracy: 0.8678 - val_loss: 0.8728 - val_accuracy: 0.7544\n",
      "Epoch 12/20\n",
      "200/200 [==============================] - 1s 4ms/step - loss: 0.5482 - accuracy: 0.8637 - val_loss: 0.8280 - val_accuracy: 0.7709\n",
      "Epoch 13/20\n",
      "200/200 [==============================] - 1s 5ms/step - loss: 0.5366 - accuracy: 0.8717 - val_loss: 0.7838 - val_accuracy: 0.7650\n",
      "Epoch 14/20\n",
      "200/200 [==============================] - 1s 4ms/step - loss: 0.5023 - accuracy: 0.8819 - val_loss: 0.7948 - val_accuracy: 0.7928\n",
      "Epoch 15/20\n",
      "200/200 [==============================] - 1s 5ms/step - loss: 0.5005 - accuracy: 0.8859 - val_loss: 0.7570 - val_accuracy: 0.7969\n",
      "Epoch 16/20\n",
      "200/200 [==============================] - 1s 4ms/step - loss: 0.4835 - accuracy: 0.8867 - val_loss: 0.9203 - val_accuracy: 0.7572\n",
      "Epoch 17/20\n",
      "200/200 [==============================] - 1s 4ms/step - loss: 0.4604 - accuracy: 0.8916 - val_loss: 0.7811 - val_accuracy: 0.7925\n",
      "Epoch 18/20\n",
      "200/200 [==============================] - 1s 4ms/step - loss: 0.4596 - accuracy: 0.8981 - val_loss: 0.7771 - val_accuracy: 0.7978\n",
      "Epoch 19/20\n",
      "200/200 [==============================] - 1s 5ms/step - loss: 0.4691 - accuracy: 0.8969 - val_loss: 0.8577 - val_accuracy: 0.7906\n",
      "Epoch 20/20\n",
      "200/200 [==============================] - 1s 5ms/step - loss: 0.4566 - accuracy: 0.8961 - val_loss: 0.7358 - val_accuracy: 0.8200\n"
     ]
    },
    {
     "data": {
      "text/plain": [
       "<keras.callbacks.History at 0x20e12ae0040>"
      ]
     },
     "execution_count": 39,
     "metadata": {},
     "output_type": "execute_result"
    }
   ],
   "source": [
    "model.fit(X_train, y_train, epochs=20, batch_size=32, validation_data=(X_test, y_test))"
   ]
  },
  {
   "cell_type": "code",
   "execution_count": 40,
   "id": "5d9c229f",
   "metadata": {
    "scrolled": true
   },
   "outputs": [
    {
     "name": "stdout",
     "output_type": "stream",
     "text": [
      "100/100 [==============================] - 0s 2ms/step - loss: 0.7358 - accuracy: 0.8200\n",
      "Test Accuracy: 82.00%\n"
     ]
    }
   ],
   "source": [
    "loss, accuracy = model.evaluate(X_test, y_test)\n",
    "print(f\"Test Accuracy: {accuracy*100:.2f}%\")"
   ]
  },
  {
   "cell_type": "code",
   "execution_count": null,
   "id": "f321ad0c",
   "metadata": {},
   "outputs": [],
   "source": []
  }
 ],
 "metadata": {
  "kernelspec": {
   "display_name": "Python 3 (ipykernel)",
   "language": "python",
   "name": "python3"
  },
  "language_info": {
   "codemirror_mode": {
    "name": "ipython",
    "version": 3
   },
   "file_extension": ".py",
   "mimetype": "text/x-python",
   "name": "python",
   "nbconvert_exporter": "python",
   "pygments_lexer": "ipython3",
   "version": "3.8.18"
  }
 },
 "nbformat": 4,
 "nbformat_minor": 5
}
