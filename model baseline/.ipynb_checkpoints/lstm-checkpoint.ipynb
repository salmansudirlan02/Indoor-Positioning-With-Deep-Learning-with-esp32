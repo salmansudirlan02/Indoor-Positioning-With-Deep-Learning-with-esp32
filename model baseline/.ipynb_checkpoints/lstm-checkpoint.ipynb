{
 "cells": [
  {
   "cell_type": "code",
   "execution_count": 15,
   "id": "f0ec5e26",
   "metadata": {},
   "outputs": [],
   "source": [
    "import pickle"
   ]
  },
  {
   "cell_type": "code",
   "execution_count": 16,
   "id": "d4e59e03",
   "metadata": {},
   "outputs": [],
   "source": [
    "with open('EXP1.pickle', 'rb') as f:\n",
    "    data = pickle.load(f)"
   ]
  },
  {
   "cell_type": "code",
   "execution_count": 17,
   "id": "03769d7e",
   "metadata": {},
   "outputs": [
    {
     "data": {
      "text/plain": [
       "[array([[14.18278985, 24.85084955, 32.26250018, ..., 10.00417662,\n",
       "          7.46888704,  3.62294237],\n",
       "        [12.57967283, 23.76741535, 30.37286871, ..., 14.95723319,\n",
       "         11.13698112,  5.84942905],\n",
       "        [13.22193417, 24.55529474, 30.39580222, ..., 13.83155641,\n",
       "         10.59001351,  5.29500675],\n",
       "        ...,\n",
       "        [13.29084536, 24.17527752, 31.31167992, ..., 14.23324907,\n",
       "         10.53464287,  4.58407225],\n",
       "        [12.95507451, 24.79821619, 31.58751678, ..., 15.15993757,\n",
       "         11.82398723,  5.91199362],\n",
       "        [12.83678016, 22.97733591, 30.31822964, ...,  9.57554661,\n",
       "          7.2255416 ,  3.23136044]]),\n",
       " array([ 3, 14,  9, ...,  4, 14, 15]),\n",
       " array([[13.28076564, 22.61852359, 31.40274702, ..., 10.60715627,\n",
       "          7.27644917,  3.63822458],\n",
       "        [12.94003695, 25.86111181, 29.316574  , ..., 10.92564205,\n",
       "          8.02663748,  4.04376155],\n",
       "        [14.43351816, 25.80163901, 33.27687417, ..., 11.81740281,\n",
       "          9.40164209,  3.67045161],\n",
       "        ...,\n",
       "        [ 9.31385356, 16.99185373, 21.98111139, ...,  8.65813213,\n",
       "          5.74999087,  2.86072738],\n",
       "        [10.12595963, 18.25930482, 23.00005503, ...,  9.45903101,\n",
       "          5.88334479,  3.65900747],\n",
       "        [ 9.184745  , 17.25962422, 21.51717653, ...,  8.96689396,\n",
       "          5.68277104,  2.87023281]]),\n",
       " array([ 0,  0,  0, ..., 15, 15, 15])]"
      ]
     },
     "execution_count": 17,
     "metadata": {},
     "output_type": "execute_result"
    }
   ],
   "source": [
    "data"
   ]
  },
  {
   "cell_type": "code",
   "execution_count": 18,
   "id": "31a505cb",
   "metadata": {},
   "outputs": [],
   "source": [
    "X_train = data[0]\n",
    "y_train = data[1]\n",
    "X_test = data[2]\n",
    "y_test = data[3]"
   ]
  },
  {
   "cell_type": "code",
   "execution_count": 1,
   "id": "cc7108de",
   "metadata": {},
   "outputs": [
    {
     "ename": "NameError",
     "evalue": "name 'X_train' is not defined",
     "output_type": "error",
     "traceback": [
      "\u001b[1;31m---------------------------------------------------------------------------\u001b[0m",
      "\u001b[1;31mNameError\u001b[0m                                 Traceback (most recent call last)",
      "Cell \u001b[1;32mIn[1], line 3\u001b[0m\n\u001b[0;32m      1\u001b[0m \u001b[38;5;28;01mimport\u001b[39;00m \u001b[38;5;21;01mnumpy\u001b[39;00m \u001b[38;5;28;01mas\u001b[39;00m \u001b[38;5;21;01mnp\u001b[39;00m\n\u001b[0;32m      2\u001b[0m \u001b[38;5;66;03m# Determine number of features and unique labels\u001b[39;00m\n\u001b[1;32m----> 3\u001b[0m n_features \u001b[38;5;241m=\u001b[39m \u001b[38;5;28mlen\u001b[39m(\u001b[43mX_train\u001b[49m[\u001b[38;5;241m0\u001b[39m])\n\u001b[0;32m      4\u001b[0m n_classes \u001b[38;5;241m=\u001b[39m \u001b[38;5;28mlen\u001b[39m(\u001b[38;5;28mset\u001b[39m(y_train))\n\u001b[0;32m      6\u001b[0m X_train \u001b[38;5;241m=\u001b[39m np\u001b[38;5;241m.\u001b[39marray(X_train)\u001b[38;5;241m.\u001b[39mreshape((\u001b[38;5;28mlen\u001b[39m(X_train), \u001b[38;5;241m1\u001b[39m, \u001b[38;5;241m-\u001b[39m\u001b[38;5;241m1\u001b[39m))\n",
      "\u001b[1;31mNameError\u001b[0m: name 'X_train' is not defined"
     ]
    }
   ],
   "source": [
    "import numpy as np\n",
    "# Determine number of features and unique labels\n",
    "n_features = len(X_train[0])\n",
    "n_classes = len(set(y_train))\n",
    "\n",
    "X_train = np.array(X_train).reshape((len(X_train), 1, -1))\n",
    "X_test = np.array(X_test).reshape((len(X_test), 1, -1))"
   ]
  },
  {
   "cell_type": "code",
   "execution_count": 20,
   "id": "b6db1697",
   "metadata": {},
   "outputs": [
    {
     "data": {
      "text/plain": [
       "array([[[14.18278985, 24.85084955, 32.26250018, ..., 10.00417662,\n",
       "          7.46888704,  3.62294237]],\n",
       "\n",
       "       [[12.57967283, 23.76741535, 30.37286871, ..., 14.95723319,\n",
       "         11.13698112,  5.84942905]],\n",
       "\n",
       "       [[13.22193417, 24.55529474, 30.39580222, ..., 13.83155641,\n",
       "         10.59001351,  5.29500675]],\n",
       "\n",
       "       ...,\n",
       "\n",
       "       [[13.29084536, 24.17527752, 31.31167992, ..., 14.23324907,\n",
       "         10.53464287,  4.58407225]],\n",
       "\n",
       "       [[12.95507451, 24.79821619, 31.58751678, ..., 15.15993757,\n",
       "         11.82398723,  5.91199362]],\n",
       "\n",
       "       [[12.83678016, 22.97733591, 30.31822964, ...,  9.57554661,\n",
       "          7.2255416 ,  3.23136044]]])"
      ]
     },
     "execution_count": 20,
     "metadata": {},
     "output_type": "execute_result"
    }
   ],
   "source": [
    "X_train"
   ]
  },
  {
   "cell_type": "code",
   "execution_count": 23,
   "id": "60ae01d5",
   "metadata": {},
   "outputs": [],
   "source": [
    "!pip install -q -U keras-tuner\n",
    "\n",
    "from tensorflow.keras.models import Sequential\n",
    "from tensorflow.keras.layers import Dense, LSTM, Dropout,BatchNormalization\n",
    "import keras_tuner as kt\n",
    "from tensorflow.keras.regularizers import l2\n",
    "from tensorflow.keras.optimizers import Adam\n",
    "from tensorflow.keras.callbacks import EarlyStopping\n",
    "\n",
    "def build_model(hp):\n",
    "    model = Sequential([\n",
    "        LSTM(256, activation='relu', return_sequences=True, input_shape=(1, n_features)),\n",
    "        LSTM(128, activation='relu', return_sequences=True),\n",
    "        LSTM(64, activation='relu'),\n",
    "        Dropout(0.4),\n",
    "        Dense(64, activation='relu'),\n",
    "        Dropout(0.3),\n",
    "        Dense(n_classes, activation='softmax')\n",
    "    ])\n",
    "    \n",
    "    lr = hp.Float('learning_rate', min_value=1e-8, max_value=1e-1, sampling='log')\n",
    "    model.compile(optimizer=Adam(learning_rate=lr), loss='sparse_categorical_crossentropy', metrics=['accuracy'])\n",
    "\n",
    "    return model"
   ]
  },
  {
   "cell_type": "code",
   "execution_count": null,
   "id": "febda69e",
   "metadata": {},
   "outputs": [
    {
     "name": "stdout",
     "output_type": "stream",
     "text": [
      "Trial 88 Complete [00h 00m 35s]\n",
      "val_accuracy: 0.032499998807907104\n",
      "\n",
      "Best val_accuracy So Far: 0.8503124713897705\n",
      "Total elapsed time: 00h 08m 31s\n",
      "\n",
      "Search: Running Trial #89\n",
      "\n",
      "Value             |Best Value So Far |Hyperparameter\n",
      "3.3366e-06        |0.00030987        |learning_rate\n",
      "50                |50                |tuner/epochs\n",
      "0                 |17                |tuner/initial_epoch\n",
      "0                 |2                 |tuner/bracket\n",
      "0                 |2                 |tuner/round\n",
      "\n",
      "Epoch 1/50\n",
      "153/153 [==============================] - 2s 7ms/step - loss: 2.7730 - accuracy: 0.0661 - val_loss: 2.7675 - val_accuracy: 0.0625\n",
      "Epoch 2/50\n",
      "153/153 [==============================] - 1s 5ms/step - loss: 2.7688 - accuracy: 0.0689 - val_loss: 2.7628 - val_accuracy: 0.0675\n",
      "Epoch 3/50\n",
      "153/153 [==============================] - 1s 5ms/step - loss: 2.7644 - accuracy: 0.0723 - val_loss: 2.7566 - val_accuracy: 0.0828\n",
      "Epoch 4/50\n",
      "153/153 [==============================] - 1s 5ms/step - loss: 2.7561 - accuracy: 0.0770 - val_loss: 2.7482 - val_accuracy: 0.0900\n",
      "Epoch 5/50\n",
      "153/153 [==============================] - 1s 5ms/step - loss: 2.7446 - accuracy: 0.0877 - val_loss: 2.7331 - val_accuracy: 0.1341\n",
      "Epoch 6/50\n",
      "153/153 [==============================] - 1s 5ms/step - loss: 2.7302 - accuracy: 0.0988 - val_loss: 2.7118 - val_accuracy: 0.1997\n",
      "Epoch 7/50\n",
      "153/153 [==============================] - 1s 5ms/step - loss: 2.7090 - accuracy: 0.1145 - val_loss: 2.6828 - val_accuracy: 0.2116\n",
      "Epoch 8/50\n",
      "153/153 [==============================] - 1s 5ms/step - loss: 2.6837 - accuracy: 0.1297 - val_loss: 2.6473 - val_accuracy: 0.2547\n",
      "Epoch 9/50\n",
      "153/153 [==============================] - 1s 5ms/step - loss: 2.6543 - accuracy: 0.1414 - val_loss: 2.5999 - val_accuracy: 0.2553\n",
      "Epoch 10/50\n",
      "153/153 [==============================] - 1s 5ms/step - loss: 2.6233 - accuracy: 0.1522 - val_loss: 2.5535 - val_accuracy: 0.2778\n",
      "Epoch 11/50\n",
      " 44/153 [=======>......................] - ETA: 0s - loss: 2.5902 - accuracy: 0.1634"
     ]
    }
   ],
   "source": [
    "tuner = kt.Hyperband(\n",
    "    build_model,\n",
    "    objective='val_accuracy',\n",
    "    max_epochs=50,\n",
    "    factor=3,\n",
    "    directory='keras_tuner_dir1',\n",
    "    project_name='keras_tuner_coba6'\n",
    ")\n",
    "\n",
    "# Mungkin berguna untuk menambahkan callback early stopping\n",
    "stop_early = EarlyStopping(monitor='val_loss', patience=5)\n",
    "\n",
    "# Mulai pencarian\n",
    "tuner.search(X_train, y_train, epochs=50, batch_size=42, validation_data=(X_test, y_test), callbacks=[stop_early])\n",
    "\n",
    "# Dapatkan model terbaik\n",
    "best_model = tuner.get_best_models(num_models=1)[0]\n"
   ]
  },
  {
   "cell_type": "code",
   "execution_count": null,
   "id": "806d6f96",
   "metadata": {},
   "outputs": [],
   "source": []
  }
 ],
 "metadata": {
  "kernelspec": {
   "display_name": "Python 3 (ipykernel)",
   "language": "python",
   "name": "python3"
  },
  "language_info": {
   "codemirror_mode": {
    "name": "ipython",
    "version": 3
   },
   "file_extension": ".py",
   "mimetype": "text/x-python",
   "name": "python",
   "nbconvert_exporter": "python",
   "pygments_lexer": "ipython3",
   "version": "3.9.18"
  }
 },
 "nbformat": 4,
 "nbformat_minor": 5
}
