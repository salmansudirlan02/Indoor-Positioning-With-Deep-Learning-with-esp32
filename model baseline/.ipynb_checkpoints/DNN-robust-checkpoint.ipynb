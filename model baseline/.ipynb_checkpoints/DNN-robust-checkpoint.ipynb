{
 "cells": [
  {
   "cell_type": "code",
   "execution_count": 1,
   "id": "dda96f6a",
   "metadata": {},
   "outputs": [],
   "source": [
    "import pickle"
   ]
  },
  {
   "cell_type": "code",
   "execution_count": 2,
   "id": "01f04fa7",
   "metadata": {},
   "outputs": [],
   "source": [
    "with open('EXP1.pickle', 'rb') as f:\n",
    "    data = pickle.load(f)"
   ]
  },
  {
   "cell_type": "code",
   "execution_count": 3,
   "id": "9801c3ac",
   "metadata": {},
   "outputs": [
    {
     "data": {
      "text/plain": [
       "[array([[14.18278985, 24.85084955, 32.26250018, ..., 10.00417662,\n",
       "          7.46888704,  3.62294237],\n",
       "        [12.57967283, 23.76741535, 30.37286871, ..., 14.95723319,\n",
       "         11.13698112,  5.84942905],\n",
       "        [13.22193417, 24.55529474, 30.39580222, ..., 13.83155641,\n",
       "         10.59001351,  5.29500675],\n",
       "        ...,\n",
       "        [13.29084536, 24.17527752, 31.31167992, ..., 14.23324907,\n",
       "         10.53464287,  4.58407225],\n",
       "        [12.95507451, 24.79821619, 31.58751678, ..., 15.15993757,\n",
       "         11.82398723,  5.91199362],\n",
       "        [12.83678016, 22.97733591, 30.31822964, ...,  9.57554661,\n",
       "          7.2255416 ,  3.23136044]]),\n",
       " array([ 3, 14,  9, ...,  4, 14, 15]),\n",
       " array([[13.28076564, 22.61852359, 31.40274702, ..., 10.60715627,\n",
       "          7.27644917,  3.63822458],\n",
       "        [12.94003695, 25.86111181, 29.316574  , ..., 10.92564205,\n",
       "          8.02663748,  4.04376155],\n",
       "        [14.43351816, 25.80163901, 33.27687417, ..., 11.81740281,\n",
       "          9.40164209,  3.67045161],\n",
       "        ...,\n",
       "        [ 9.31385356, 16.99185373, 21.98111139, ...,  8.65813213,\n",
       "          5.74999087,  2.86072738],\n",
       "        [10.12595963, 18.25930482, 23.00005503, ...,  9.45903101,\n",
       "          5.88334479,  3.65900747],\n",
       "        [ 9.184745  , 17.25962422, 21.51717653, ...,  8.96689396,\n",
       "          5.68277104,  2.87023281]]),\n",
       " array([ 0,  0,  0, ..., 15, 15, 15])]"
      ]
     },
     "execution_count": 3,
     "metadata": {},
     "output_type": "execute_result"
    }
   ],
   "source": [
    "data"
   ]
  },
  {
   "cell_type": "code",
   "execution_count": 4,
   "id": "ba352e53",
   "metadata": {},
   "outputs": [],
   "source": [
    "X_train = data[0]\n",
    "y_train = data[1]\n",
    "X_test = data[2]\n",
    "y_test = data[3]"
   ]
  },
  {
   "cell_type": "code",
   "execution_count": 5,
   "id": "d8af51a8",
   "metadata": {},
   "outputs": [],
   "source": [
    "# Determine number of features and unique labels\n",
    "n_features = len(X_train[0])\n",
    "n_classes = len(set(y_train))"
   ]
  },
  {
   "cell_type": "code",
   "execution_count": 71,
   "id": "74a1db50",
   "metadata": {},
   "outputs": [],
   "source": [
    "from tensorflow.keras.models import Sequential\n",
    "from tensorflow.keras.layers import Dense, Dropout,BatchNormalization\n",
    "from tensorflow.keras.regularizers import l2\n",
    "\n",
    "model = Sequential([\n",
    "    Dense(256, activation='relu', input_dim=n_features, kernel_regularizer=l2(0.01)),\n",
    "    BatchNormalization(),\n",
    "    Dropout(0.4),\n",
    "    \n",
    "    Dense(128, activation='relu', kernel_regularizer=l2(0.01)),\n",
    "    BatchNormalization(),\n",
    "    Dropout(0.4),\n",
    "    \n",
    "    Dense(64, activation='relu', kernel_regularizer=l2(0.01)),\n",
    "    BatchNormalization(),\n",
    "    Dropout(0.2),\n",
    "    \n",
    "    Dense(n_classes, activation='softmax')\n",
    "])"
   ]
  },
  {
   "cell_type": "code",
   "execution_count": 72,
   "id": "88221e59",
   "metadata": {},
   "outputs": [],
   "source": [
    "import neural_structured_learning as nsl"
   ]
  },
  {
   "cell_type": "code",
   "execution_count": 73,
   "id": "850a1caa",
   "metadata": {},
   "outputs": [],
   "source": [
    "adv_config = nsl.configs.make_adv_reg_config(multiplier=0.2, adv_step_size=0.05)\n",
    "adv_model = nsl.keras.AdversarialRegularization(model, adv_config=adv_config)"
   ]
  },
  {
   "cell_type": "code",
   "execution_count": 74,
   "id": "33446a64",
   "metadata": {},
   "outputs": [],
   "source": [
    "from tensorflow.keras.optimizers import Adam\n",
    "from tensorflow.keras.callbacks import EarlyStopping"
   ]
  },
  {
   "cell_type": "code",
   "execution_count": 91,
   "id": "ad8db280",
   "metadata": {},
   "outputs": [],
   "source": [
    "optimizer = Adam(learning_rate=0.00001)"
   ]
  },
  {
   "cell_type": "code",
   "execution_count": 92,
   "id": "9ac7cf17",
   "metadata": {},
   "outputs": [],
   "source": [
    "adv_model.compile(optimizer=optimizer,\n",
    "                  loss='sparse_categorical_crossentropy',\n",
    "                  metrics=['accuracy'])"
   ]
  },
  {
   "cell_type": "code",
   "execution_count": 95,
   "id": "eb44c0d5",
   "metadata": {},
   "outputs": [
    {
     "name": "stdout",
     "output_type": "stream",
     "text": [
      "Epoch 1/20\n",
      "200/200 [==============================] - 1s 4ms/step - loss: 0.1699 - sparse_categorical_crossentropy: 0.0390 - sparse_categorical_accuracy: 0.9894 - scaled_adversarial_loss: 0.0075 - val_loss: 0.9054 - val_sparse_categorical_crossentropy: 0.6470 - val_sparse_categorical_accuracy: 0.8125 - val_scaled_adversarial_loss: 0.1356\n",
      "Epoch 2/20\n",
      "200/200 [==============================] - 1s 4ms/step - loss: 0.1741 - sparse_categorical_crossentropy: 0.0433 - sparse_categorical_accuracy: 0.9875 - scaled_adversarial_loss: 0.0085 - val_loss: 1.0547 - val_sparse_categorical_crossentropy: 0.7719 - val_sparse_categorical_accuracy: 0.7981 - val_scaled_adversarial_loss: 0.1610\n",
      "Epoch 3/20\n",
      "200/200 [==============================] - 1s 4ms/step - loss: 0.1662 - sparse_categorical_crossentropy: 0.0370 - sparse_categorical_accuracy: 0.9889 - scaled_adversarial_loss: 0.0079 - val_loss: 0.9115 - val_sparse_categorical_crossentropy: 0.6538 - val_sparse_categorical_accuracy: 0.8138 - val_scaled_adversarial_loss: 0.1368\n",
      "Epoch 4/20\n",
      "200/200 [==============================] - 1s 4ms/step - loss: 0.1633 - sparse_categorical_crossentropy: 0.0361 - sparse_categorical_accuracy: 0.9887 - scaled_adversarial_loss: 0.0069 - val_loss: 0.8737 - val_sparse_categorical_crossentropy: 0.6234 - val_sparse_categorical_accuracy: 0.8241 - val_scaled_adversarial_loss: 0.1304\n",
      "Epoch 5/20\n",
      "200/200 [==============================] - 1s 4ms/step - loss: 0.1636 - sparse_categorical_crossentropy: 0.0368 - sparse_categorical_accuracy: 0.9894 - scaled_adversarial_loss: 0.0073 - val_loss: 0.7954 - val_sparse_categorical_crossentropy: 0.5590 - val_sparse_categorical_accuracy: 0.8397 - val_scaled_adversarial_loss: 0.1173\n",
      "Epoch 6/20\n",
      "200/200 [==============================] - 1s 4ms/step - loss: 0.1672 - sparse_categorical_crossentropy: 0.0415 - sparse_categorical_accuracy: 0.9858 - scaled_adversarial_loss: 0.0069 - val_loss: 1.1066 - val_sparse_categorical_crossentropy: 0.8179 - val_sparse_categorical_accuracy: 0.7884 - val_scaled_adversarial_loss: 0.1703\n",
      "Epoch 7/20\n",
      "200/200 [==============================] - 1s 4ms/step - loss: 0.1590 - sparse_categorical_crossentropy: 0.0332 - sparse_categorical_accuracy: 0.9900 - scaled_adversarial_loss: 0.0079 - val_loss: 0.9279 - val_sparse_categorical_crossentropy: 0.6699 - val_sparse_categorical_accuracy: 0.8166 - val_scaled_adversarial_loss: 0.1403\n",
      "Epoch 8/20\n",
      "200/200 [==============================] - 1s 4ms/step - loss: 0.1600 - sparse_categorical_crossentropy: 0.0359 - sparse_categorical_accuracy: 0.9884 - scaled_adversarial_loss: 0.0068 - val_loss: 1.0714 - val_sparse_categorical_crossentropy: 0.7898 - val_sparse_categorical_accuracy: 0.7962 - val_scaled_adversarial_loss: 0.1646\n",
      "Epoch 9/20\n",
      "200/200 [==============================] - 1s 4ms/step - loss: 0.1554 - sparse_categorical_crossentropy: 0.0311 - sparse_categorical_accuracy: 0.9911 - scaled_adversarial_loss: 0.0077 - val_loss: 0.9616 - val_sparse_categorical_crossentropy: 0.6987 - val_sparse_categorical_accuracy: 0.8003 - val_scaled_adversarial_loss: 0.1465\n",
      "Epoch 10/20\n",
      "200/200 [==============================] - 1s 4ms/step - loss: 0.1576 - sparse_categorical_crossentropy: 0.0343 - sparse_categorical_accuracy: 0.9895 - scaled_adversarial_loss: 0.0073 - val_loss: 1.1114 - val_sparse_categorical_crossentropy: 0.8245 - val_sparse_categorical_accuracy: 0.8238 - val_scaled_adversarial_loss: 0.1712\n",
      "Epoch 11/20\n",
      "200/200 [==============================] - 1s 4ms/step - loss: 0.1532 - sparse_categorical_crossentropy: 0.0307 - sparse_categorical_accuracy: 0.9930 - scaled_adversarial_loss: 0.0071 - val_loss: 1.0677 - val_sparse_categorical_crossentropy: 0.7882 - val_sparse_categorical_accuracy: 0.8062 - val_scaled_adversarial_loss: 0.1643\n",
      "Epoch 12/20\n",
      "200/200 [==============================] - 1s 4ms/step - loss: 0.1518 - sparse_categorical_crossentropy: 0.0306 - sparse_categorical_accuracy: 0.9922 - scaled_adversarial_loss: 0.0064 - val_loss: 0.9855 - val_sparse_categorical_crossentropy: 0.7206 - val_sparse_categorical_accuracy: 0.8225 - val_scaled_adversarial_loss: 0.1502\n",
      "Epoch 13/20\n",
      "200/200 [==============================] - 1s 4ms/step - loss: 0.1546 - sparse_categorical_crossentropy: 0.0328 - sparse_categorical_accuracy: 0.9908 - scaled_adversarial_loss: 0.0074 - val_loss: 1.0471 - val_sparse_categorical_crossentropy: 0.7724 - val_sparse_categorical_accuracy: 0.8219 - val_scaled_adversarial_loss: 0.1605\n",
      "Epoch 14/20\n",
      "200/200 [==============================] - 1s 4ms/step - loss: 0.1581 - sparse_categorical_crossentropy: 0.0371 - sparse_categorical_accuracy: 0.9894 - scaled_adversarial_loss: 0.0071 - val_loss: 0.9130 - val_sparse_categorical_crossentropy: 0.6611 - val_sparse_categorical_accuracy: 0.8253 - val_scaled_adversarial_loss: 0.1382\n",
      "Epoch 15/20\n",
      "200/200 [==============================] - 1s 4ms/step - loss: 0.1565 - sparse_categorical_crossentropy: 0.0360 - sparse_categorical_accuracy: 0.9902 - scaled_adversarial_loss: 0.0071 - val_loss: 0.8681 - val_sparse_categorical_crossentropy: 0.6241 - val_sparse_categorical_accuracy: 0.8200 - val_scaled_adversarial_loss: 0.1308\n",
      "Epoch 16/20\n",
      "200/200 [==============================] - 1s 4ms/step - loss: 0.1540 - sparse_categorical_crossentropy: 0.0347 - sparse_categorical_accuracy: 0.9900 - scaled_adversarial_loss: 0.0063 - val_loss: 1.2198 - val_sparse_categorical_crossentropy: 0.9167 - val_sparse_categorical_accuracy: 0.7944 - val_scaled_adversarial_loss: 0.1903\n",
      "Epoch 17/20\n",
      "200/200 [==============================] - 1s 4ms/step - loss: 0.1562 - sparse_categorical_crossentropy: 0.0367 - sparse_categorical_accuracy: 0.9894 - scaled_adversarial_loss: 0.0070 - val_loss: 0.8650 - val_sparse_categorical_crossentropy: 0.6223 - val_sparse_categorical_accuracy: 0.8288 - val_scaled_adversarial_loss: 0.1303\n",
      "Epoch 18/20\n",
      "200/200 [==============================] - 1s 4ms/step - loss: 0.1498 - sparse_categorical_crossentropy: 0.0298 - sparse_categorical_accuracy: 0.9922 - scaled_adversarial_loss: 0.0079 - val_loss: 0.9271 - val_sparse_categorical_crossentropy: 0.6740 - val_sparse_categorical_accuracy: 0.8087 - val_scaled_adversarial_loss: 0.1412\n",
      "Epoch 19/20\n",
      "200/200 [==============================] - 1s 4ms/step - loss: 0.1487 - sparse_categorical_crossentropy: 0.0311 - sparse_categorical_accuracy: 0.9922 - scaled_adversarial_loss: 0.0058 - val_loss: 1.1275 - val_sparse_categorical_crossentropy: 0.8410 - val_sparse_categorical_accuracy: 0.8066 - val_scaled_adversarial_loss: 0.1749\n",
      "Epoch 20/20\n",
      "200/200 [==============================] - 1s 4ms/step - loss: 0.1503 - sparse_categorical_crossentropy: 0.0324 - sparse_categorical_accuracy: 0.9903 - scaled_adversarial_loss: 0.0065 - val_loss: 0.9609 - val_sparse_categorical_crossentropy: 0.7028 - val_sparse_categorical_accuracy: 0.8206 - val_scaled_adversarial_loss: 0.1470\n"
     ]
    },
    {
     "data": {
      "text/plain": [
       "<keras.callbacks.History at 0x21ac9e9a730>"
      ]
     },
     "execution_count": 95,
     "metadata": {},
     "output_type": "execute_result"
    }
   ],
   "source": [
    "adv_model.fit({'feature': X_train, 'label': y_train}, validation_data={'feature': X_test, 'label': y_test}, batch_size=32, epochs=20)"
   ]
  },
  {
   "cell_type": "code",
   "execution_count": 96,
   "id": "5d9c229f",
   "metadata": {
    "scrolled": true
   },
   "outputs": [
    {
     "name": "stdout",
     "output_type": "stream",
     "text": [
      "100/100 [==============================] - 0s 913us/step - loss: 0.8139 - accuracy: 0.8206\n",
      "Test Accuracy: 82.06%\n"
     ]
    }
   ],
   "source": [
    "loss, accuracy = model.evaluate(X_test, y_test)\n",
    "print(f\"Test Accuracy: {accuracy*100:.2f}%\")"
   ]
  },
  {
   "cell_type": "code",
   "execution_count": null,
   "id": "f321ad0c",
   "metadata": {},
   "outputs": [],
   "source": []
  }
 ],
 "metadata": {
  "kernelspec": {
   "display_name": "Python 3 (ipykernel)",
   "language": "python",
   "name": "python3"
  },
  "language_info": {
   "codemirror_mode": {
    "name": "ipython",
    "version": 3
   },
   "file_extension": ".py",
   "mimetype": "text/x-python",
   "name": "python",
   "nbconvert_exporter": "python",
   "pygments_lexer": "ipython3",
   "version": "3.8.18"
  }
 },
 "nbformat": 4,
 "nbformat_minor": 5
}
