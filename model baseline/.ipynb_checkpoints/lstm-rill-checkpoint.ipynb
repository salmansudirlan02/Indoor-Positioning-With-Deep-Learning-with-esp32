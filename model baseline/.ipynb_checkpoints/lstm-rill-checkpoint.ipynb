{
 "cells": [
  {
   "cell_type": "code",
   "execution_count": 26,
   "metadata": {},
   "outputs": [],
   "source": [
    "import pandas as pd\n",
    "import numpy as np\n",
    "import matplotlib.pyplot as plt\n",
    "import pickle"
   ]
  },
  {
   "cell_type": "code",
   "execution_count": 27,
   "metadata": {},
   "outputs": [],
   "source": [
    "with open('EXP1.pickle', 'rb') as f:\n",
    "    data = pickle.load(f)"
   ]
  },
  {
   "cell_type": "code",
   "execution_count": 28,
   "metadata": {},
   "outputs": [],
   "source": [
    "X_train = data[0]\n",
    "y_train = data[1]\n",
    "X_test = data[2]\n",
    "y_test = data[3]"
   ]
  },
  {
   "cell_type": "code",
   "execution_count": 29,
   "metadata": {},
   "outputs": [],
   "source": [
    "n_features = len(X_train[0])\n",
    "n_classes = len(set(y_train))\n",
    "\n",
    "X_train = np.array(X_train).reshape((len(X_train), 1, -1))\n",
    "X_test = np.array(X_test).reshape((len(X_test), 1, -1))"
   ]
  },
  {
   "cell_type": "code",
   "execution_count": 30,
   "metadata": {},
   "outputs": [
    {
     "data": {
      "text/plain": [
       "array([[[14.18278985, 24.85084955, 32.26250018, ..., 10.00417662,\n",
       "          7.46888704,  3.62294237]],\n",
       "\n",
       "       [[12.57967283, 23.76741535, 30.37286871, ..., 14.95723319,\n",
       "         11.13698112,  5.84942905]],\n",
       "\n",
       "       [[13.22193417, 24.55529474, 30.39580222, ..., 13.83155641,\n",
       "         10.59001351,  5.29500675]],\n",
       "\n",
       "       ...,\n",
       "\n",
       "       [[13.29084536, 24.17527752, 31.31167992, ..., 14.23324907,\n",
       "         10.53464287,  4.58407225]],\n",
       "\n",
       "       [[12.95507451, 24.79821619, 31.58751678, ..., 15.15993757,\n",
       "         11.82398723,  5.91199362]],\n",
       "\n",
       "       [[12.83678016, 22.97733591, 30.31822964, ...,  9.57554661,\n",
       "          7.2255416 ,  3.23136044]]])"
      ]
     },
     "execution_count": 30,
     "metadata": {},
     "output_type": "execute_result"
    }
   ],
   "source": [
    "X_train"
   ]
  },
  {
   "cell_type": "markdown",
   "metadata": {},
   "source": [
    "# Fitur Yang Di drop : 3, 64, 65"
   ]
  },
  {
   "cell_type": "code",
   "execution_count": 39,
   "metadata": {},
   "outputs": [],
   "source": [
    "import tensorflow as tf\n",
    "from tensorflow.keras.models import Sequential\n",
    "from tensorflow.keras.layers import LSTM, Dense, Dropout,BatchNormalization"
   ]
  },
  {
   "cell_type": "code",
   "execution_count": 57,
   "metadata": {},
   "outputs": [],
   "source": [
    "model = Sequential()\n",
    "# LSTM\n",
    "model.add(LSTM(256, return_sequences=True, input_shape=(1, 120)))\n",
    "model.add(BatchNormalization())\n",
    "model.add(LSTM(128, return_sequences=True))\n",
    "model.add(BatchNormalization())\n",
    "model.add(LSTM(64))\n",
    "model.add(BatchNormalization())\n",
    "model.add(Dense(64, activation='relu'))\n",
    "model.add(Dropout(0.3))\n",
    "model.add(Dense(n_classes, activation='softmax'))"
   ]
  },
  {
   "cell_type": "code",
   "execution_count": 58,
   "metadata": {},
   "outputs": [
    {
     "name": "stdout",
     "output_type": "stream",
     "text": [
      "Model: \"sequential_5\"\n",
      "_________________________________________________________________\n",
      " Layer (type)                Output Shape              Param #   \n",
      "=================================================================\n",
      " lstm_13 (LSTM)              (None, 1, 256)            386048    \n",
      "                                                                 \n",
      " batch_normalization_3 (Batc  (None, 1, 256)           1024      \n",
      " hNormalization)                                                 \n",
      "                                                                 \n",
      " lstm_14 (LSTM)              (None, 1, 128)            197120    \n",
      "                                                                 \n",
      " batch_normalization_4 (Batc  (None, 1, 128)           512       \n",
      " hNormalization)                                                 \n",
      "                                                                 \n",
      " lstm_15 (LSTM)              (None, 64)                49408     \n",
      "                                                                 \n",
      " batch_normalization_5 (Batc  (None, 64)               256       \n",
      " hNormalization)                                                 \n",
      "                                                                 \n",
      " dense_8 (Dense)             (None, 64)                4160      \n",
      "                                                                 \n",
      " dropout_4 (Dropout)         (None, 64)                0         \n",
      "                                                                 \n",
      " dense_9 (Dense)             (None, 16)                1040      \n",
      "                                                                 \n",
      "=================================================================\n",
      "Total params: 639,568\n",
      "Trainable params: 638,672\n",
      "Non-trainable params: 896\n",
      "_________________________________________________________________\n"
     ]
    }
   ],
   "source": [
    "model.summary()"
   ]
  },
  {
   "cell_type": "code",
   "execution_count": 61,
   "metadata": {},
   "outputs": [],
   "source": [
    "from tensorflow.keras.optimizers import Adam\n",
    "from tensorflow.keras.callbacks import EarlyStopping\n",
    "from tensorflow.keras.callbacks import Callback\n",
    "\n",
    "class MyCallback(Callback):\n",
    "    def __init__(self, threshold=0.80):\n",
    "        super(MyCallback, self).__init__()\n",
    "        self.threshold = threshold\n",
    "\n",
    "    def on_epoch_end(self, epoch, logs=None):\n",
    "        # Cek apakah akurasi validasi telah melebihi threshold\n",
    "        if logs.get('val_accuracy') >= self.threshold:\n",
    "            print(f\"\\nAkurasi telah mencapai {self.threshold*100}% di epoch {epoch}, menghentikan pelatihan...\")\n",
    "            self.model.stop_training = True\n",
    "\n",
    "# Membuat instance dari MyCallback\n",
    "my_callback = MyCallback(threshold=0.855)"
   ]
  },
  {
   "cell_type": "code",
   "execution_count": 63,
   "metadata": {},
   "outputs": [
    {
     "name": "stdout",
     "output_type": "stream",
     "text": [
      "Epoch 1/30\n",
      "54/54 [==============================] - 3s 23ms/step - loss: 0.0131 - accuracy: 0.9998 - val_loss: 0.8398 - val_accuracy: 0.8062\n",
      "Epoch 2/30\n",
      "54/54 [==============================] - 1s 15ms/step - loss: 0.0104 - accuracy: 0.9998 - val_loss: 0.6474 - val_accuracy: 0.8456\n",
      "Epoch 3/30\n",
      "54/54 [==============================] - 1s 15ms/step - loss: 0.0089 - accuracy: 1.0000 - val_loss: 0.6490 - val_accuracy: 0.8359\n",
      "Epoch 4/30\n",
      "54/54 [==============================] - 1s 15ms/step - loss: 0.0075 - accuracy: 0.9998 - val_loss: 0.9088 - val_accuracy: 0.7931\n",
      "Epoch 5/30\n",
      "54/54 [==============================] - 1s 15ms/step - loss: 0.0060 - accuracy: 1.0000 - val_loss: 0.6022 - val_accuracy: 0.8528\n",
      "Epoch 6/30\n",
      "50/54 [==========================>...] - ETA: 0s - loss: 0.0042 - accuracy: 1.0000\n",
      "Akurasi telah mencapai 85.5% di epoch 5, menghentikan pelatihan...\n",
      "54/54 [==============================] - 1s 15ms/step - loss: 0.0043 - accuracy: 1.0000 - val_loss: 0.6268 - val_accuracy: 0.8628\n"
     ]
    },
    {
     "data": {
      "text/plain": [
       "<keras.callbacks.History at 0x286921bc850>"
      ]
     },
     "execution_count": 63,
     "metadata": {},
     "output_type": "execute_result"
    }
   ],
   "source": [
    "from tensorflow.keras.optimizers import Adam\n",
    "\n",
    "optimizer = Adam(learning_rate=1e-4)\n",
    "\n",
    "model.compile(optimizer=optimizer, loss='sparse_categorical_crossentropy', metrics=['accuracy'])\n",
    "model.fit(X_train, y_train, epochs=30, batch_size=120, validation_data=(X_test, y_test),callbacks=[my_callback])"
   ]
  },
  {
   "cell_type": "code",
   "execution_count": 64,
   "metadata": {},
   "outputs": [
    {
     "name": "stdout",
     "output_type": "stream",
     "text": [
      "100/100 [==============================] - 1s 9ms/step - loss: 0.6268 - accuracy: 0.8628\n",
      "Test Accuracy: 86.28%\n"
     ]
    }
   ],
   "source": [
    "loss, accuracy = model.evaluate(X_test, y_test)\n",
    "print(f\"Test Accuracy: {accuracy*100:.2f}%\")"
   ]
  },
  {
   "cell_type": "code",
   "execution_count": 65,
   "metadata": {},
   "outputs": [
    {
     "data": {
      "text/plain": [
       "120"
      ]
     },
     "execution_count": 65,
     "metadata": {},
     "output_type": "execute_result"
    }
   ],
   "source": [
    "n_features"
   ]
  },
  {
   "cell_type": "code",
   "execution_count": null,
   "metadata": {},
   "outputs": [],
   "source": []
  }
 ],
 "metadata": {
  "kernelspec": {
   "display_name": "Python 3 (ipykernel)",
   "language": "python",
   "name": "python3"
  },
  "language_info": {
   "codemirror_mode": {
    "name": "ipython",
    "version": 3
   },
   "file_extension": ".py",
   "mimetype": "text/x-python",
   "name": "python",
   "nbconvert_exporter": "python",
   "pygments_lexer": "ipython3",
   "version": "3.9.18"
  }
 },
 "nbformat": 4,
 "nbformat_minor": 4
}
